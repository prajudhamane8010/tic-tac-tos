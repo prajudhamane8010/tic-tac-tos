{
 "cells": [
  {
   "cell_type": "code",
   "execution_count": null,
   "id": "3d0bf0a2-acf7-4eec-844c-272cc4defdbc",
   "metadata": {},
   "outputs": [
    {
     "name": "stdout",
     "output_type": "stream",
     "text": [
      "  |   |  \n",
      "---------\n",
      "  |   |  \n",
      "---------\n",
      "  |   |  \n",
      "---------\n"
     ]
    }
   ],
   "source": [
    "def print_board(board):\n",
    "    for row in board:\n",
    "        print(\" | \".join(row))\n",
    "        print(\"-\" * 9)\n",
    "\n",
    "def check_winner(board, player):\n",
    "    # Check rows, columns, and diagonals\n",
    "    for i in range(3):\n",
    "        if all(cell == player for cell in board[i]):  # Row\n",
    "            return True\n",
    "        if all(board[j][i] == player for j in range(3)):  # Column\n",
    "            return True\n",
    "    if all(board[i][i] == player for i in range(3)):  # Diagonal \\\n",
    "        return True\n",
    "    if all(board[i][2 - i] == player for i in range(3)):  # Diagonal /\n",
    "        return True\n",
    "    return False\n",
    "\n",
    "def is_draw(board):\n",
    "    return all(cell in ['X', 'O'] for row in board for cell in row)\n",
    "\n",
    "def get_move(player, board):\n",
    "    while True:\n",
    "        try:\n",
    "            move = input(f\"Player {player}, enter your move (row and column: 1 1): \")\n",
    "            row, col = map(int, move.strip().split())\n",
    "            row -= 1\n",
    "            col -= 1\n",
    "            if board[row][col] not in ['X', 'O']:\n",
    "                return row, col\n",
    "            else:\n",
    "                print(\"Cell already taken. Try again.\")\n",
    "        except (ValueError, IndexError):\n",
    "            print(\"Invalid input. Please enter row and column between 1 and 3.\")\n",
    "\n",
    "def play_game():\n",
    "    board = [[\" \" for _ in range(3)] for _ in range(3)]\n",
    "    current_player = 'X'\n",
    "    \n",
    "    while True:\n",
    "        print_board(board)\n",
    "        row, col = get_move(current_player, board)\n",
    "        board[row][col] = current_player\n",
    "        \n",
    "        if check_winner(board, current_player):\n",
    "            print_board(board)\n",
    "            print(f\"🎉 Player {current_player} wins!\")\n",
    "            break\n",
    "        elif is_draw(board):\n",
    "            print_board(board)\n",
    "            print(\"It's a draw!\")\n",
    "            break\n",
    "        \n",
    "        # Switch player\n",
    "        current_player = 'O' if current_player == 'X' else 'X'\n",
    "\n",
    "# Run the game\n",
    "play_game()"
   ]
  },
  {
   "cell_type": "code",
   "execution_count": null,
   "id": "cc07ee25-a090-4c15-bcee-ac7e3dda71c7",
   "metadata": {},
   "outputs": [],
   "source": []
  }
 ],
 "metadata": {
  "kernelspec": {
   "display_name": "Python 3 (ipykernel)",
   "language": "python",
   "name": "python3"
  },
  "language_info": {
   "codemirror_mode": {
    "name": "ipython",
    "version": 3
   },
   "file_extension": ".py",
   "mimetype": "text/x-python",
   "name": "python",
   "nbconvert_exporter": "python",
   "pygments_lexer": "ipython3",
   "version": "3.12.4"
  }
 },
 "nbformat": 4,
 "nbformat_minor": 5
}
